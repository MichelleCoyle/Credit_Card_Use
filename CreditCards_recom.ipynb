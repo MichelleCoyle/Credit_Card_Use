{
 "cells": [
  {
   "cell_type": "markdown",
   "id": "98685f57",
   "metadata": {},
   "source": [
    "This project looks at customer age vs credit score using a decision tree model to classify credit card users into 1 of 3 categories; regular card user, infrequent card user, or frequent user."
   ]
  },
  {
   "cell_type": "markdown",
   "id": "8837fd80",
   "metadata": {},
   "source": [
    "##  Import modules and data "
   ]
  },
  {
   "cell_type": "code",
   "execution_count": null,
   "id": "3776ca24",
   "metadata": {},
   "outputs": [],
   "source": [
    "import pandas as pd\n",
    "import numpy as np\n",
    "\n",
    "import matplotlib.pyplot as plt\n",
    "import seaborn as sns\n",
    "\n",
    "from sklearn.tree import DecisionTreeClassifier # to build a classification tree\n",
    "from sklearn.tree import plot_tree # to draw a classification tree\n",
    "from sklearn.model_selection import train_test_split # to split data into training and testing sets\n",
    "from sklearn.model_selection import cross_val_score # for cross validation\n",
    "from sklearn.metrics import confusion_matrix # to create a confusion matrix\n",
    "from sklearn.metrics import plot_confusion_matrix # to draw a confusion matrix\n",
    "\n",
    "# Jupter notebook specific  --> '%' is used to configure the behavior of the IPython environment, in this case, it tells IPython\n",
    "# to display Matplotlib plots directly in the output cells of a Jupyter notebook, rather than opening a separate window for \n",
    "# the plot.\n",
    "%matplotlib inline\n",
    "\n",
    "\n",
    "# data-viz\n",
    "\n",
    "plt.style.use('fivethirtyeight')\n",
    "plt.rcdefaults() # get the default theme\n",
    "\n",
    "# modeling \n",
    "from sklearn.tree import DecisionTreeClassifier\n",
    "from sklearn import metrics\n",
    "from sklearn import preprocessing\n",
    "\n",
    "\n",
    "# for ignoring warnings\n",
    "import warnings\n",
    "warnings.simplefilter(\"ignore\")"
   ]
  },
  {
   "cell_type": "code",
   "execution_count": 7,
   "id": "c1655c23",
   "metadata": {},
   "outputs": [],
   "source": [
    "data = pd.read_csv(\"data.csv\")\n"
   ]
  },
  {
   "cell_type": "markdown",
   "id": "78fb190e",
   "metadata": {},
   "source": [
    "##  Data Inspection"
   ]
  },
  {
   "cell_type": "markdown",
   "id": "8dbe9a87",
   "metadata": {},
   "source": [
    "###  Numerical inspection and summaries "
   ]
  },
  {
   "cell_type": "code",
   "execution_count": 8,
   "id": "d40970cb",
   "metadata": {},
   "outputs": [
    {
     "data": {
      "text/html": [
       "<div>\n",
       "<style scoped>\n",
       "    .dataframe tbody tr th:only-of-type {\n",
       "        vertical-align: middle;\n",
       "    }\n",
       "\n",
       "    .dataframe tbody tr th {\n",
       "        vertical-align: top;\n",
       "    }\n",
       "\n",
       "    .dataframe thead th {\n",
       "        text-align: right;\n",
       "    }\n",
       "</style>\n",
       "<table border=\"1\" class=\"dataframe\">\n",
       "  <thead>\n",
       "    <tr style=\"text-align: right;\">\n",
       "      <th></th>\n",
       "      <th>Customer credit score</th>\n",
       "      <th>Customer age</th>\n",
       "      <th>Category of customer behaviour</th>\n",
       "    </tr>\n",
       "  </thead>\n",
       "  <tbody>\n",
       "    <tr>\n",
       "      <th>0</th>\n",
       "      <td>570</td>\n",
       "      <td>57</td>\n",
       "      <td>Regular card user</td>\n",
       "    </tr>\n",
       "    <tr>\n",
       "      <th>1</th>\n",
       "      <td>600</td>\n",
       "      <td>31</td>\n",
       "      <td>Infrequent card user</td>\n",
       "    </tr>\n",
       "    <tr>\n",
       "      <th>2</th>\n",
       "      <td>610</td>\n",
       "      <td>36</td>\n",
       "      <td>Infrequent card user</td>\n",
       "    </tr>\n",
       "    <tr>\n",
       "      <th>3</th>\n",
       "      <td>590</td>\n",
       "      <td>45</td>\n",
       "      <td>Infrequent card user</td>\n",
       "    </tr>\n",
       "    <tr>\n",
       "      <th>4</th>\n",
       "      <td>620</td>\n",
       "      <td>50</td>\n",
       "      <td>Regular card user</td>\n",
       "    </tr>\n",
       "  </tbody>\n",
       "</table>\n",
       "</div>"
      ],
      "text/plain": [
       "   Customer credit score  Customer age Category of customer behaviour\n",
       "0                    570            57              Regular card user\n",
       "1                    600            31           Infrequent card user\n",
       "2                    610            36           Infrequent card user\n",
       "3                    590            45           Infrequent card user\n",
       "4                    620            50              Regular card user"
      ]
     },
     "execution_count": 8,
     "metadata": {},
     "output_type": "execute_result"
    }
   ],
   "source": [
    "data.head()\n",
    "df = data\n",
    "df.head()"
   ]
  },
  {
   "cell_type": "code",
   "execution_count": 9,
   "id": "b131e135",
   "metadata": {},
   "outputs": [],
   "source": [
    "#df.describe(include='all')\n",
    "#“all” which forces pandas to include all the data types of the dataset to be included in the summary. \n",
    "#The string type values are accompanied by options such as unique, top, and frequency)"
   ]
  },
  {
   "cell_type": "code",
   "execution_count": 10,
   "id": "44d4871a",
   "metadata": {},
   "outputs": [
    {
     "data": {
      "text/plain": [
       "Index(['Customer credit score', 'Customer age',\n",
       "       'Category of customer behaviour'],\n",
       "      dtype='object')"
      ]
     },
     "execution_count": 10,
     "metadata": {},
     "output_type": "execute_result"
    }
   ],
   "source": [
    "df.columns"
   ]
  },
  {
   "cell_type": "markdown",
   "id": "e25c3fa7",
   "metadata": {},
   "source": [
    "**Renaming columns for ease of use**"
   ]
  },
  {
   "cell_type": "code",
   "execution_count": 19,
   "id": "c0c78bb4",
   "metadata": {},
   "outputs": [],
   "source": [
    "df.rename(columns = {'Customer credit score':'score', \n",
    "                    'Category of customer behaviour': 'behaviour', \n",
    "                    'Customer age' :'age'}, inplace = True)"
   ]
  },
  {
   "cell_type": "code",
   "execution_count": 20,
   "id": "cdc978b8",
   "metadata": {},
   "outputs": [
    {
     "name": "stdout",
     "output_type": "stream",
     "text": [
      "<class 'pandas.core.frame.DataFrame'>\n",
      "RangeIndex: 28 entries, 0 to 27\n",
      "Data columns (total 3 columns):\n",
      " #   Column     Non-Null Count  Dtype \n",
      "---  ------     --------------  ----- \n",
      " 0   score      28 non-null     int64 \n",
      " 1   age        28 non-null     int64 \n",
      " 2   behaviour  28 non-null     object\n",
      "dtypes: int64(2), object(1)\n",
      "memory usage: 800.0+ bytes\n"
     ]
    }
   ],
   "source": [
    "df.info()"
   ]
  },
  {
   "cell_type": "code",
   "execution_count": 21,
   "id": "035be611",
   "metadata": {},
   "outputs": [
    {
     "data": {
      "text/plain": [
       "score        0\n",
       "age          0\n",
       "behaviour    0\n",
       "dtype: int64"
      ]
     },
     "execution_count": 21,
     "metadata": {},
     "output_type": "execute_result"
    }
   ],
   "source": [
    "#check for the missing values\n",
    "df.isna().sum()"
   ]
  },
  {
   "cell_type": "code",
   "execution_count": 22,
   "id": "b13b732c",
   "metadata": {},
   "outputs": [
    {
     "data": {
      "image/png": "[encoded data removed]",
      "text/plain": [
       "<Figure size 640x480 with 1 Axes>"
      ]
     },
     "metadata": {},
     "output_type": "display_data"
    }
   ],
   "source": [
    "sns.scatterplot(x = \"score\", y = \"age\", data = df);"
   ]
  },
  {
   "cell_type": "code",
   "execution_count": 23,
   "id": "87ab1a22",
   "metadata": {},
   "outputs": [
    {
     "data": {
      "image/png": "[encoded data removed]",
      "text/plain": [
       "<Figure size 1000x500 with 1 Axes>"
      ]
     },
     "metadata": {},
     "output_type": "display_data"
    }
   ],
   "source": [
    "plt.figure(figsize = (10, 5 ))\n",
    "\n",
    "sns.scatterplot(x = \"score\", y = \"age\", data = df, hue=\"behaviour\", style = \"behaviour\", s= 100);\n",
    "\n",
    "# adding labels\n",
    "plt.ylabel(\"Customer Age\");\n",
    "plt.xlabel(\"Customer score\")\n",
    "plt.title(\"Age vs Score\", fontsize = 15);\n",
    "\n",
    "# axis limits\n",
    "# plt.xlim([credit.score.min(), credit.score.max()]);\n",
    "plt.grid()\n",
    "\n",
    "plt.xlim([550, 850]);\n",
    "plt.ylim([20, 65]);\n",
    "plt.legend( loc = 'lower left');\n",
    "\n",
    "# add lines\n",
    "plt.axvline(x= 750, color = \"purple\", linewidth = 3, linestyle = '--')\n",
    "plt.axhline(y= 40, color = \"red\", linewidth = 3, linestyle = '--');\n"
   ]
  },
  {
   "cell_type": "markdown",
   "id": "e2b77c4e",
   "metadata": {},
   "source": [
    "**Added user-type lines via visual inspection**   \n",
    "4 points are misclassified"
   ]
  },
  {
   "cell_type": "code",
   "execution_count": 24,
   "id": "dd2f3ee8",
   "metadata": {},
   "outputs": [
    {
     "name": "stdout",
     "output_type": "stream",
     "text": [
      "Big purchaser           10\n",
      "Regular card user        9\n",
      "Infrequent card user     9\n",
      "Name: behaviour, dtype: int64\n",
      "\n",
      "\n",
      "Big purchaser           0.36\n",
      "Regular card user       0.32\n",
      "Infrequent card user    0.32\n",
      "Name: behaviour, dtype: float64\n"
     ]
    }
   ],
   "source": [
    "# Getting the distribution of the card types\n",
    "print(df.behaviour.value_counts())\n",
    "\n",
    "print(\"\\n\") # this is to give space\n",
    "\n",
    "# show the ratio\n",
    "print(df.behaviour.value_counts(normalize = True).round(2))"
   ]
  },
  {
   "cell_type": "markdown",
   "id": "254320c0",
   "metadata": {},
   "source": [
    "### Modelling Decision Trees\n",
    "\n",
    "\n",
    "**Data pre-processing** \n",
    "\n",
    "ENCODING: Scikit learn library can't use the 'strings' columns directly, so converting _strings_ to numbers and then feed into the model. \n"
   ]
  },
  {
   "cell_type": "code",
   "execution_count": 25,
   "id": "c778df7a",
   "metadata": {},
   "outputs": [
    {
     "data": {
      "text/plain": [
       "array(['Regular card user', 'Infrequent card user', 'Big purchaser'],\n",
       "      dtype=object)"
      ]
     },
     "execution_count": 25,
     "metadata": {},
     "output_type": "execute_result"
    }
   ],
   "source": [
    "# check the unique values in behaviour column\n",
    "df['behaviour'].unique()"
   ]
  },
  {
   "cell_type": "code",
   "execution_count": 26,
   "id": "77d3c23c",
   "metadata": {},
   "outputs": [
    {
     "data": {
      "text/html": [
       "<div>\n",
       "<style scoped>\n",
       "    .dataframe tbody tr th:only-of-type {\n",
       "        vertical-align: middle;\n",
       "    }\n",
       "\n",
       "    .dataframe tbody tr th {\n",
       "        vertical-align: top;\n",
       "    }\n",
       "\n",
       "    .dataframe thead th {\n",
       "        text-align: right;\n",
       "    }\n",
       "</style>\n",
       "<table border=\"1\" class=\"dataframe\">\n",
       "  <thead>\n",
       "    <tr style=\"text-align: right;\">\n",
       "      <th></th>\n",
       "      <th>score</th>\n",
       "      <th>age</th>\n",
       "      <th>behaviour</th>\n",
       "      <th>behaviour_encoded</th>\n",
       "    </tr>\n",
       "  </thead>\n",
       "  <tbody>\n",
       "    <tr>\n",
       "      <th>0</th>\n",
       "      <td>570</td>\n",
       "      <td>57</td>\n",
       "      <td>Regular card user</td>\n",
       "      <td>2</td>\n",
       "    </tr>\n",
       "    <tr>\n",
       "      <th>1</th>\n",
       "      <td>600</td>\n",
       "      <td>31</td>\n",
       "      <td>Infrequent card user</td>\n",
       "      <td>1</td>\n",
       "    </tr>\n",
       "    <tr>\n",
       "      <th>2</th>\n",
       "      <td>610</td>\n",
       "      <td>36</td>\n",
       "      <td>Infrequent card user</td>\n",
       "      <td>1</td>\n",
       "    </tr>\n",
       "    <tr>\n",
       "      <th>3</th>\n",
       "      <td>590</td>\n",
       "      <td>45</td>\n",
       "      <td>Infrequent card user</td>\n",
       "      <td>1</td>\n",
       "    </tr>\n",
       "    <tr>\n",
       "      <th>4</th>\n",
       "      <td>620</td>\n",
       "      <td>50</td>\n",
       "      <td>Regular card user</td>\n",
       "      <td>2</td>\n",
       "    </tr>\n",
       "  </tbody>\n",
       "</table>\n",
       "</div>"
      ],
      "text/plain": [
       "   score  age             behaviour  behaviour_encoded\n",
       "0    570   57     Regular card user                  2\n",
       "1    600   31  Infrequent card user                  1\n",
       "2    610   36  Infrequent card user                  1\n",
       "3    590   45  Infrequent card user                  1\n",
       "4    620   50     Regular card user                  2"
      ]
     },
     "execution_count": 26,
     "metadata": {},
     "output_type": "execute_result"
    }
   ],
   "source": [
    "# convert the string into numbers\n",
    "\n",
    "# calling the module\n",
    "le_beh = preprocessing.LabelEncoder()\n",
    "\n",
    "# fitting the transformer\n",
    "le_beh.fit(['Regular card user', 'Infrequent card user', 'Big purchaser'])\n",
    "\n",
    "# assigning it to the credit column\n",
    "df[\"behaviour_encoded\"] = le_beh.transform(df[\"behaviour\"]) \n",
    "\n",
    "# exploring the data\n",
    "df.head()"
   ]
  },
  {
   "cell_type": "code",
   "execution_count": 27,
   "id": "aee73b8d",
   "metadata": {},
   "outputs": [
    {
     "data": {
      "text/plain": [
       "array([2, 1, 0])"
      ]
     },
     "execution_count": 27,
     "metadata": {},
     "output_type": "execute_result"
    }
   ],
   "source": [
    "df.behaviour_encoded.unique()"
   ]
  },
  {
   "cell_type": "code",
   "execution_count": 28,
   "id": "9a056fda",
   "metadata": {},
   "outputs": [
    {
     "data": {
      "text/plain": [
       "array(['Regular card user', 'Infrequent card user', 'Big purchaser'],\n",
       "      dtype=object)"
      ]
     },
     "execution_count": 28,
     "metadata": {},
     "output_type": "execute_result"
    }
   ],
   "source": [
    "df.behaviour.unique()"
   ]
  },
  {
   "cell_type": "code",
   "execution_count": 29,
   "id": "9e5965b0",
   "metadata": {},
   "outputs": [],
   "source": [
    "from sklearn.preprocessing import LabelEncoder"
   ]
  },
  {
   "cell_type": "code",
   "execution_count": 30,
   "id": "a6567a3c",
   "metadata": {},
   "outputs": [
    {
     "name": "stdout",
     "output_type": "stream",
     "text": [
      "<class 'pandas.core.frame.DataFrame'>\n",
      "RangeIndex: 28 entries, 0 to 27\n",
      "Data columns (total 4 columns):\n",
      " #   Column             Non-Null Count  Dtype \n",
      "---  ------             --------------  ----- \n",
      " 0   score              28 non-null     int64 \n",
      " 1   age                28 non-null     int64 \n",
      " 2   behaviour          28 non-null     object\n",
      " 3   behaviour_encoded  28 non-null     int32 \n",
      "dtypes: int32(1), int64(2), object(1)\n",
      "memory usage: 912.0+ bytes\n"
     ]
    }
   ],
   "source": [
    "df.info()"
   ]
  },
  {
   "cell_type": "markdown",
   "id": "1143922f",
   "metadata": {},
   "source": [
    "**Split data into features(X) and target (y)**"
   ]
  },
  {
   "cell_type": "code",
   "execution_count": 31,
   "id": "308a715c",
   "metadata": {},
   "outputs": [],
   "source": [
    "# splitting the data into features and target\n",
    "x = df[['score', 'age']]\n",
    "y = df['behaviour_encoded']"
   ]
  },
  {
   "cell_type": "code",
   "execution_count": 32,
   "id": "41fba7f0",
   "metadata": {},
   "outputs": [],
   "source": [
    "x_train, x_test, y_train, y_test = train_test_split(x, y, test_size = 0.2, random_state = 32)"
   ]
  },
  {
   "cell_type": "code",
   "execution_count": 33,
   "id": "f3a90a4a",
   "metadata": {},
   "outputs": [
    {
     "data": {
      "text/plain": [
       "(28, 2)"
      ]
     },
     "execution_count": 33,
     "metadata": {},
     "output_type": "execute_result"
    }
   ],
   "source": [
    "x.shape"
   ]
  },
  {
   "cell_type": "code",
   "execution_count": 34,
   "id": "45819bf1",
   "metadata": {},
   "outputs": [
    {
     "data": {
      "text/plain": [
       "(28,)"
      ]
     },
     "execution_count": 34,
     "metadata": {},
     "output_type": "execute_result"
    }
   ],
   "source": [
    "y.shape"
   ]
  },
  {
   "cell_type": "markdown",
   "id": "4c392dfe",
   "metadata": {},
   "source": [
    "**Model Fitting**"
   ]
  },
  {
   "cell_type": "code",
   "execution_count": 35,
   "id": "593c71a8",
   "metadata": {},
   "outputs": [
    {
     "name": "stdout",
     "output_type": "stream",
     "text": [
      "1.0\n",
      "0.3333333333333333\n"
     ]
    }
   ],
   "source": [
    "# Call the model ....Gini method is default\n",
    "dt = DecisionTreeClassifier()\n",
    "\n",
    "# fit the model on train \n",
    "dt.fit(x_train, y_train)\n",
    "\n",
    "# predict on train / test \n",
    "train_pred = dt.predict(x_train)\n",
    "test_pred = dt.predict(x_test)\n",
    "\n",
    "# score \n",
    "print(metrics.accuracy_score(y_train, train_pred))\n",
    "print(metrics.accuracy_score(y_test, test_pred))"
   ]
  },
  {
   "cell_type": "code",
   "execution_count": 36,
   "id": "f4cec220",
   "metadata": {},
   "outputs": [
    {
     "name": "stdout",
     "output_type": "stream",
     "text": [
      "1.0\n",
      "0.3333333333333333\n"
     ]
    }
   ],
   "source": [
    "dt = DecisionTreeClassifier(criterion = 'entropy')\n",
    "\n",
    "#fit the model on train \n",
    "dt.fit(x_train, y_train)\n",
    "\n",
    "#predict on train / test \n",
    "train_pred = dt.predict(x_train)\n",
    "test_pred = dt.predict(x_test)\n",
    "\n",
    "#score \n",
    "print(metrics.accuracy_score(y_train, train_pred))\n",
    "print(metrics.accuracy_score(y_test, test_pred))"
   ]
  },
  {
   "cell_type": "markdown",
   "id": "418594a6",
   "metadata": {},
   "source": [
    "Running a `for-loop` to see how changing the value of the `max_depth` changes the accuracy score"
   ]
  },
  {
   "cell_type": "code",
   "execution_count": 27,
   "id": "a16aef6d",
   "metadata": {},
   "outputs": [
    {
     "name": "stdout",
     "output_type": "stream",
     "text": [
      "1.0\n",
      "0.16666666666666666\n",
      "--------\n",
      "1.0\n",
      "0.6666666666666666\n",
      "--------\n",
      "1.0\n",
      "0.5\n",
      "--------\n",
      "1.0\n",
      "0.3333333333333333\n",
      "--------\n",
      "1.0\n",
      "0.3333333333333333\n",
      "--------\n"
     ]
    }
   ],
   "source": [
    "train_accuracy = []\n",
    "test_accuracy = []\n",
    "\n",
    "for depth in range(1,6):\n",
    "    \n",
    "    # Call the model ..yooo whoooo \n",
    "    dt = DecisionTreeClassifier(max_depth = depth)\n",
    "\n",
    "    # fit the model on train \n",
    "    dt.fit(x_train, y_train)\n",
    "\n",
    "    # predict on train / test \n",
    "    # train_accuracy.accuracy_score = dt.predict(x_train)\n",
    "    test_pred = dt.predict(x_test)\n",
    "\n",
    "    # score \n",
    "    print(metrics.accuracy_score(y_train, train_pred))\n",
    "    print(metrics.accuracy_score(y_test, test_pred))\n",
    "    print(\"--------\")  #nice"
   ]
  },
  {
   "cell_type": "code",
   "execution_count": 37,
   "id": "090c998f",
   "metadata": {},
   "outputs": [],
   "source": [
    "from sklearn import tree"
   ]
  },
  {
   "cell_type": "markdown",
   "id": "a41e23fd",
   "metadata": {},
   "source": [
    "**Why only 5 iterations?...when it seems like I told it a range of 1-6**\n",
    "\n",
    "***Why..the deeper it gets, the less accurate the test score is***"
   ]
  },
  {
   "cell_type": "code",
   "execution_count": 38,
   "id": "ca775c10",
   "metadata": {},
   "outputs": [],
   "source": [
    "model = tree.DecisionTreeClassifier()"
   ]
  },
  {
   "cell_type": "code",
   "execution_count": 39,
   "id": "854cb715",
   "metadata": {},
   "outputs": [
    {
     "data": {
      "text/plain": [
       "DecisionTreeClassifier()"
      ]
     },
     "execution_count": 39,
     "metadata": {},
     "output_type": "execute_result"
    }
   ],
   "source": [
    "model.fit(x_train, y_train)"
   ]
  },
  {
   "cell_type": "code",
   "execution_count": 40,
   "id": "5a2f4ec2",
   "metadata": {},
   "outputs": [
    {
     "data": {
      "text/plain": [
       "0.3333333333333333"
      ]
     },
     "execution_count": 40,
     "metadata": {},
     "output_type": "execute_result"
    }
   ],
   "source": [
    "model.score(x_test,y_test)"
   ]
  },
  {
   "cell_type": "code",
   "execution_count": 41,
   "id": "a374ba4b",
   "metadata": {},
   "outputs": [
    {
     "data": {
      "text/plain": [
       "0.8571428571428571"
      ]
     },
     "execution_count": 41,
     "metadata": {},
     "output_type": "execute_result"
    }
   ],
   "source": [
    "model.score(x, y)"
   ]
  },
  {
   "cell_type": "code",
   "execution_count": 42,
   "id": "f2deb6d1",
   "metadata": {},
   "outputs": [
    {
     "data": {
      "text/plain": [
       "array([1])"
      ]
     },
     "execution_count": 42,
     "metadata": {},
     "output_type": "execute_result"
    }
   ],
   "source": [
    "model.predict([[570,57]])"
   ]
  },
  {
   "cell_type": "code",
   "execution_count": 43,
   "id": "ac9cba07",
   "metadata": {},
   "outputs": [
    {
     "data": {
      "text/plain": [
       "array([0])"
      ]
     },
     "execution_count": 43,
     "metadata": {},
     "output_type": "execute_result"
    }
   ],
   "source": [
    "model.predict([[840,30]])"
   ]
  },
  {
   "cell_type": "code",
   "execution_count": 44,
   "id": "20d8ff70",
   "metadata": {},
   "outputs": [
    {
     "data": {
      "text/plain": [
       "array([2])"
      ]
     },
     "execution_count": 44,
     "metadata": {},
     "output_type": "execute_result"
    }
   ],
   "source": [
    "model.predict([[650,60]])"
   ]
  },
  {
   "cell_type": "code",
   "execution_count": 45,
   "id": "9be25922",
   "metadata": {},
   "outputs": [
    {
     "data": {
      "text/plain": [
       "(28, 2)"
      ]
     },
     "execution_count": 45,
     "metadata": {},
     "output_type": "execute_result"
    }
   ],
   "source": [
    "x.shape"
   ]
  },
  {
   "cell_type": "code",
   "execution_count": 46,
   "id": "916996e8",
   "metadata": {},
   "outputs": [
    {
     "data": {
      "text/plain": [
       "(28,)"
      ]
     },
     "execution_count": 46,
     "metadata": {},
     "output_type": "execute_result"
    }
   ],
   "source": [
    "y.shape"
   ]
  },
  {
   "cell_type": "code",
   "execution_count": 47,
   "id": "a5941e25",
   "metadata": {},
   "outputs": [],
   "source": [
    "from sklearn.model_selection import GridSearchCV\n",
    "\n",
    "d_tree = DecisionTreeClassifier()\n",
    "\n",
    "param_grid = {'criterion':['gini','entropy'],\n",
    "             'max_depth':[x for x in range(1,10)],\n",
    "             'min_samples_leaf':[x for x in range(1,7)],\n",
    "             'min_samples_split':[x for x in range(1,7)]}\n",
    "g_grid = GridSearchCV(d_tree, param_grid=param_grid, cv=10)"
   ]
  },
  {
   "cell_type": "code",
   "execution_count": 48,
   "id": "8cbb3d58",
   "metadata": {},
   "outputs": [
    {
     "name": "stdout",
     "output_type": "stream",
     "text": [
      "9.661168575286865 seconds\n"
     ]
    }
   ],
   "source": [
    "import time\n",
    "start_time = time.time()\n",
    "g_grid.fit(x,y)\n",
    "print('%s seconds' % (time.time() - start_time))"
   ]
  },
  {
   "cell_type": "code",
   "execution_count": 49,
   "id": "7db093f4",
   "metadata": {},
   "outputs": [
    {
     "data": {
      "text/plain": [
       "0.7333333333333333"
      ]
     },
     "execution_count": 49,
     "metadata": {},
     "output_type": "execute_result"
    }
   ],
   "source": [
    "g_grid.best_score_"
   ]
  },
  {
   "cell_type": "code",
   "execution_count": 50,
   "id": "85bdc6b7",
   "metadata": {},
   "outputs": [
    {
     "data": {
      "text/plain": [
       "{'criterion': 'gini',\n",
       " 'max_depth': 3,\n",
       " 'min_samples_leaf': 2,\n",
       " 'min_samples_split': 2}"
      ]
     },
     "execution_count": 50,
     "metadata": {},
     "output_type": "execute_result"
    }
   ],
   "source": [
    "g_grid.best_params_"
   ]
  },
  {
   "cell_type": "code",
   "execution_count": 74,
   "id": "15b353df",
   "metadata": {},
   "outputs": [],
   "source": [
    "model_2 = tree.DecisionTreeClassifier(max_depth=2, min_samples_leaf=2, min_samples_split=2)"
   ]
  },
  {
   "cell_type": "code",
   "execution_count": 75,
   "id": "bb33574b",
   "metadata": {},
   "outputs": [
    {
     "data": {
      "text/plain": [
       "DecisionTreeClassifier(max_depth=2, min_samples_leaf=2)"
      ]
     },
     "execution_count": 75,
     "metadata": {},
     "output_type": "execute_result"
    }
   ],
   "source": [
    "model_2.fit(x_train, y_train)"
   ]
  },
  {
   "cell_type": "code",
   "execution_count": 76,
   "id": "a5cb2dd3",
   "metadata": {},
   "outputs": [
    {
     "data": {
      "text/plain": [
       "0.6667"
      ]
     },
     "execution_count": 76,
     "metadata": {},
     "output_type": "execute_result"
    }
   ],
   "source": [
    "model_2.score(x_test,y_test).round(4)"
   ]
  },
  {
   "cell_type": "code",
   "execution_count": 77,
   "id": "d9964fc3",
   "metadata": {},
   "outputs": [
    {
     "data": {
      "text/plain": [
       "0.8571428571428571"
      ]
     },
     "execution_count": 77,
     "metadata": {},
     "output_type": "execute_result"
    }
   ],
   "source": [
    "model_2.score(x, y)"
   ]
  },
  {
   "cell_type": "code",
   "execution_count": 78,
   "id": "8cefd5b8",
   "metadata": {},
   "outputs": [
    {
     "data": {
      "text/plain": [
       "array([2])"
      ]
     },
     "execution_count": 78,
     "metadata": {},
     "output_type": "execute_result"
    }
   ],
   "source": [
    "model_2.predict([[570,57]])"
   ]
  },
  {
   "cell_type": "code",
   "execution_count": 79,
   "id": "dbd5df4e",
   "metadata": {},
   "outputs": [
    {
     "data": {
      "text/plain": [
       "array([0])"
      ]
     },
     "execution_count": 79,
     "metadata": {},
     "output_type": "execute_result"
    }
   ],
   "source": [
    "model_2.predict([[840,30]])"
   ]
  },
  {
   "cell_type": "code",
   "execution_count": 84,
   "id": "714fc9b6",
   "metadata": {},
   "outputs": [
    {
     "data": {
      "text/plain": [
       "array([1])"
      ]
     },
     "execution_count": 84,
     "metadata": {},
     "output_type": "execute_result"
    }
   ],
   "source": [
    "model_2.predict([[650,25]])"
   ]
  },
  {
   "cell_type": "code",
   "execution_count": 85,
   "id": "bcdc8f06",
   "metadata": {},
   "outputs": [
    {
     "data": {
      "text/plain": [
       "array([1])"
      ]
     },
     "execution_count": 85,
     "metadata": {},
     "output_type": "execute_result"
    }
   ],
   "source": [
    "model_2.predict([[750,40]])"
   ]
  },
  {
   "cell_type": "code",
   "execution_count": 86,
   "id": "033e89db",
   "metadata": {},
   "outputs": [],
   "source": [
    "import pickle"
   ]
  },
  {
   "cell_type": "code",
   "execution_count": 89,
   "id": "3eaac991",
   "metadata": {},
   "outputs": [
    {
     "name": "stdout",
     "output_type": "stream",
     "text": [
      "file exported\n"
     ]
    }
   ],
   "source": [
    "filename = 'credit_card_model.sav'\n",
    "pickle.dump(model_2, open(filename, 'wb'))\n",
    "\n",
    "print(\"file exported\")"
   ]
  },
  {
   "cell_type": "code",
   "execution_count": null,
   "id": "437b55f6",
   "metadata": {},
   "outputs": [],
   "source": []
  }
 ],
 "metadata": {
  "kernelspec": {
   "display_name": "Python 3 (ipykernel)",
   "language": "python",
   "name": "python3"
  },
  "language_info": {
   "codemirror_mode": {
    "name": "ipython",
    "version": 3
   },
   "file_extension": ".py",
   "mimetype": "text/x-python",
   "name": "python",
   "nbconvert_exporter": "python",
   "pygments_lexer": "ipython3",
   "version": "3.9.12"
  }
 },
 "nbformat": 4,
 "nbformat_minor": 5
}
